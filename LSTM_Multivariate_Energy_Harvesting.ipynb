{
  "nbformat": 4,
  "nbformat_minor": 0,
  "metadata": {
    "colab": {
      "name": "LSTM_Multivariate_Energy_Harvesting",
      "provenance": [],
      "collapsed_sections": [],
      "mount_file_id": "1pNx4tgiowexzw_wGFrrJTIWIoopHlruQ",
      "authorship_tag": "ABX9TyMetq4e+4PB43sKew9sd+P+",
      "include_colab_link": true
    },
    "kernelspec": {
      "display_name": "Python 3",
      "name": "python3"
    },
    "accelerator": "GPU"
  },
  "cells": [
    {
      "cell_type": "markdown",
      "metadata": {
        "id": "view-in-github",
        "colab_type": "text"
      },
      "source": [
        "<a href=\"https://colab.research.google.com/github/prakashece/Deep_learning_algorithms/blob/master/LSTM_Multivariate_Energy_Harvesting.ipynb\" target=\"_parent\"><img src=\"https://colab.research.google.com/assets/colab-badge.svg\" alt=\"Open In Colab\"/></a>"
      ]
    },
    {
      "cell_type": "code",
      "metadata": {
        "id": "a2UkLeatTKgJ"
      },
      "source": [
        "import pandas as pd\n",
        "import numpy as np\n",
        "import matplotlib.pyplot as plt"
      ],
      "execution_count": null,
      "outputs": []
    },
    {
      "cell_type": "code",
      "metadata": {
        "colab": {
          "base_uri": "https://localhost:8080/"
        },
        "id": "qNmb9qwYTW0I",
        "outputId": "d8bc24df-6d8f-4ef6-fba4-7e7cd449f215"
      },
      "source": [
        "df=pd.read_csv('/content/drive/My Drive/Solar_mutivariate.csv')\n",
        "print(df.shape)\n",
        "#print(df)\n",
        "train_data=df.iloc[1:385343,1:4].values\n",
        "print(train_data)"
      ],
      "execution_count": null,
      "outputs": [
        {
          "output_type": "stream",
          "name": "stdout",
          "text": [
            "(385440, 4)\n",
            "[[   0.   1010.     97.94]\n",
            " [   0.   1010.     96.49]\n",
            " [   0.   1010.     96.47]\n",
            " ...\n",
            " [   0.   1000.     92.05]\n",
            " [   0.   1000.     98.82]\n",
            " [   0.   1000.     98.4 ]]\n"
          ]
        }
      ]
    },
    {
      "cell_type": "code",
      "metadata": {
        "colab": {
          "base_uri": "https://localhost:8080/"
        },
        "id": "QdFheZbhWccS",
        "outputId": "6ce02a9a-06e6-455d-bcd6-cdb1b48c2910"
      },
      "source": [
        "train_x=[]\n",
        "train_y=[]\n",
        "for i in range(48,385342):\n",
        "  train_x.append(train_data[i-48:i,0:train_data.shape[1]])\n",
        "  train_y.append(train_data[i,0])\n",
        "train_x,train_y=np.array(train_x),np.array(train_y)\n",
        "#train_x=np.reshape(train_x,(train_x.shape[0],train_x.shape[1],1))\n",
        "print(train_x.shape)\n",
        "print(train_y.shape)"
      ],
      "execution_count": null,
      "outputs": [
        {
          "output_type": "stream",
          "name": "stdout",
          "text": [
            "(385294, 48, 3)\n",
            "(385294,)\n"
          ]
        }
      ]
    },
    {
      "cell_type": "code",
      "metadata": {
        "id": "vpGcwPNXYweG"
      },
      "source": [
        "from keras.models import Sequential\n",
        "from keras.layers import LSTM\n",
        "from keras.layers import Dense\n",
        "from keras.layers import Dropout\n"
      ],
      "execution_count": null,
      "outputs": []
    },
    {
      "cell_type": "code",
      "metadata": {
        "id": "QayPSbDwZEFU"
      },
      "source": [
        "regressor=Sequential()"
      ],
      "execution_count": null,
      "outputs": []
    },
    {
      "cell_type": "code",
      "metadata": {
        "id": "fcE3RN8rZjuI"
      },
      "source": [
        "regressor.add(LSTM(units=48,return_sequences=True,input_shape=(train_x.shape[1],train_x.shape[2])))\n",
        "regressor.add(Dropout(0.05))"
      ],
      "execution_count": null,
      "outputs": []
    },
    {
      "cell_type": "code",
      "metadata": {
        "id": "TelM8HVOaI23"
      },
      "source": [
        "regressor.add(LSTM(units=48,return_sequences=True))\n",
        "regressor.add(Dropout(0.05))"
      ],
      "execution_count": null,
      "outputs": []
    },
    {
      "cell_type": "code",
      "metadata": {
        "id": "IZTy1h3yalmG"
      },
      "source": [
        "regressor.add(LSTM(units=48,return_sequences=True))\n",
        "regressor.add(Dropout(0.05))"
      ],
      "execution_count": null,
      "outputs": []
    },
    {
      "cell_type": "code",
      "metadata": {
        "id": "1FsiQbJWapDj"
      },
      "source": [
        "regressor.add(LSTM(units=48))\n",
        "regressor.add(Dropout(0.05))"
      ],
      "execution_count": null,
      "outputs": []
    },
    {
      "cell_type": "code",
      "metadata": {
        "id": "li2mkUjLatZi"
      },
      "source": [
        "regressor.add(Dense(units=1))\n"
      ],
      "execution_count": null,
      "outputs": []
    },
    {
      "cell_type": "code",
      "metadata": {
        "id": "aDS5kpnHa56a"
      },
      "source": [
        "regressor.compile(optimizer='adam',loss='mean_squared_error')"
      ],
      "execution_count": null,
      "outputs": []
    },
    {
      "cell_type": "code",
      "metadata": {
        "colab": {
          "base_uri": "https://localhost:8080/"
        },
        "id": "yzjqSwIGbIGb",
        "outputId": "5268f140-d206-451e-9a5f-be0666205898"
      },
      "source": [
        "regressor.fit(train_x,train_y,epochs=5,batch_size=32)\n",
        "print(regressor.loss)\n",
        "#model.save('/content/drive/My Drive/solar_model.h5')\n",
        "regressor.save('/content/drive/My Drive/solar_multivariate_model.h5')"
      ],
      "execution_count": null,
      "outputs": [
        {
          "output_type": "stream",
          "name": "stdout",
          "text": [
            "Epoch 1/5\n",
            "12041/12041 [==============================] - 561s 46ms/step - loss: 0.0820\n",
            "Epoch 2/5\n",
            "12041/12041 [==============================] - 556s 46ms/step - loss: 0.0460\n",
            "Epoch 3/5\n",
            "12041/12041 [==============================] - 555s 46ms/step - loss: 0.0429\n",
            "Epoch 4/5\n",
            "12041/12041 [==============================] - 557s 46ms/step - loss: 0.0414\n",
            "Epoch 5/5\n",
            "12041/12041 [==============================] - 555s 46ms/step - loss: 0.0411\n",
            "mean_squared_error\n"
          ]
        }
      ]
    },
    {
      "cell_type": "code",
      "metadata": {
        "id": "FaxigFxyebMf"
      },
      "source": [
        "#regressor.save('/content/drive/My Drive/solar_model.h5')"
      ],
      "execution_count": null,
      "outputs": []
    },
    {
      "cell_type": "code",
      "metadata": {
        "colab": {
          "base_uri": "https://localhost:8080/"
        },
        "id": "YHhYhBqv1zwP",
        "outputId": "2c2f404b-bc69-4d97-ebc7-0587564d093e"
      },
      "source": [
        "from keras.models import load_model\n",
        "model=load_model(\"/content/drive/My Drive/solar_multivariate_model.h5\")\n",
        "model.summary()"
      ],
      "execution_count": null,
      "outputs": [
        {
          "output_type": "stream",
          "name": "stdout",
          "text": [
            "Model: \"sequential_1\"\n",
            "_________________________________________________________________\n",
            "Layer (type)                 Output Shape              Param #   \n",
            "=================================================================\n",
            "lstm_4 (LSTM)                (None, 48, 48)            9984      \n",
            "_________________________________________________________________\n",
            "dropout_4 (Dropout)          (None, 48, 48)            0         \n",
            "_________________________________________________________________\n",
            "lstm_5 (LSTM)                (None, 48, 48)            18624     \n",
            "_________________________________________________________________\n",
            "dropout_5 (Dropout)          (None, 48, 48)            0         \n",
            "_________________________________________________________________\n",
            "lstm_6 (LSTM)                (None, 48, 48)            18624     \n",
            "_________________________________________________________________\n",
            "dropout_6 (Dropout)          (None, 48, 48)            0         \n",
            "_________________________________________________________________\n",
            "lstm_7 (LSTM)                (None, 48)                18624     \n",
            "_________________________________________________________________\n",
            "dropout_7 (Dropout)          (None, 48)                0         \n",
            "_________________________________________________________________\n",
            "dense_1 (Dense)              (None, 1)                 49        \n",
            "=================================================================\n",
            "Total params: 65,905\n",
            "Trainable params: 65,905\n",
            "Non-trainable params: 0\n",
            "_________________________________________________________________\n"
          ]
        }
      ]
    },
    {
      "cell_type": "code",
      "metadata": {
        "colab": {
          "base_uri": "https://localhost:8080/"
        },
        "id": "Q-xb1KLXemH8",
        "outputId": "6282974a-aa16-4326-a318-1abc4a033855"
      },
      "source": [
        "#test_data= df.iloc[385344:,1:2].values #for 96 values\n",
        "#test_data= df.iloc[385439:,1:2].values #for 48 values\n",
        "test_data= df.iloc[385344:385392,1:2].values #for middle 48 values\n",
        "#data_test=pd.DataFrame(test_data)\n",
        "#test_data= df.iloc[7248:7296,1:2].values #summer solar power(48 values)\n",
        "data_test=pd.DataFrame(test_data)\n",
        "print(len(data_test))"
      ],
      "execution_count": null,
      "outputs": [
        {
          "output_type": "stream",
          "name": "stdout",
          "text": [
            "48\n"
          ]
        }
      ]
    },
    {
      "cell_type": "code",
      "metadata": {
        "colab": {
          "base_uri": "https://localhost:8080/"
        },
        "id": "QqNK-CW9bY19",
        "outputId": "aab83c5f-a281-433c-d289-384137d50307"
      },
      "source": [
        "data_total=df.iloc[:,1:4].values\n",
        "data_total=pd.DataFrame(data_total)\n",
        "print(data_total.shape)\n",
        "#inputs=data_total[385392:].values\n",
        "#inputs=data_total[380832:].values #for 96 values \n",
        "#inputs=data_total[383136:].values\n",
        "inputs=data_total[385296:385392].values #for middle 48 values\n",
        "print(inputs.shape)\n",
        "test_x=[]"
      ],
      "execution_count": null,
      "outputs": [
        {
          "output_type": "stream",
          "name": "stdout",
          "text": [
            "(385440, 3)\n",
            "(96, 3)\n"
          ]
        }
      ]
    },
    {
      "cell_type": "code",
      "metadata": {
        "colab": {
          "base_uri": "https://localhost:8080/"
        },
        "id": "fq1fKKPfbsAv",
        "outputId": "24c598b1-51b9-4db6-d2a6-3ae21b4baaf6"
      },
      "source": [
        "for i in range(48,96): # for midddle 48 values\n",
        "  test_x.append(inputs[i-48:i,0:inputs.shape[1]])\n",
        "#test_x.append(inputs)\n",
        "test_x=np.array(test_x)\n",
        "#test_x=np.reshape(test_x,(test_x.shape[0],test_x.shape[1],))\n",
        "print(test_x.shape)\n",
        "print(test_x)"
      ],
      "execution_count": null,
      "outputs": [
        {
          "output_type": "stream",
          "name": "stdout",
          "text": [
            "(48, 48, 3)\n",
            "[[[   0.   1000.    100.  ]\n",
            "  [   0.   1000.    100.  ]\n",
            "  [   0.   1000.    100.  ]\n",
            "  ...\n",
            "  [   0.   1000.     98.82]\n",
            "  [   0.   1000.     98.4 ]\n",
            "  [   0.   1000.     98.39]]\n",
            "\n",
            " [[   0.   1000.    100.  ]\n",
            "  [   0.   1000.    100.  ]\n",
            "  [   0.   1000.    100.  ]\n",
            "  ...\n",
            "  [   0.   1000.     98.4 ]\n",
            "  [   0.   1000.     98.39]\n",
            "  [   0.   1000.     97.98]]\n",
            "\n",
            " [[   0.   1000.    100.  ]\n",
            "  [   0.   1000.    100.  ]\n",
            "  [   0.   1000.    100.  ]\n",
            "  ...\n",
            "  [   0.   1000.     98.39]\n",
            "  [   0.   1000.     97.98]\n",
            "  [   0.   1000.    100.  ]]\n",
            "\n",
            " ...\n",
            "\n",
            " [[   0.   1000.     98.82]\n",
            "  [   0.   1000.     98.4 ]\n",
            "  [   0.   1000.     98.39]\n",
            "  ...\n",
            "  [   0.   1000.     98.29]\n",
            "  [   0.   1000.     98.26]\n",
            "  [   0.   1000.     97.92]]\n",
            "\n",
            " [[   0.   1000.     98.4 ]\n",
            "  [   0.   1000.     98.39]\n",
            "  [   0.   1000.     97.98]\n",
            "  ...\n",
            "  [   0.   1000.     98.26]\n",
            "  [   0.   1000.     97.92]\n",
            "  [   0.   1000.     97.91]]\n",
            "\n",
            " [[   0.   1000.     98.39]\n",
            "  [   0.   1000.     97.98]\n",
            "  [   0.   1000.    100.  ]\n",
            "  ...\n",
            "  [   0.   1000.     97.92]\n",
            "  [   0.   1000.     97.91]\n",
            "  [   0.   1000.     97.97]]]\n"
          ]
        }
      ]
    },
    {
      "cell_type": "code",
      "metadata": {
        "colab": {
          "base_uri": "https://localhost:8080/"
        },
        "id": "-HZzlsMJbfqG",
        "outputId": "47b9ddca-9b7b-4649-c136-8f68b0a086e5"
      },
      "source": [
        "predict_values=model.predict(test_x)\n",
        "print(predict_values)"
      ],
      "execution_count": null,
      "outputs": [
        {
          "output_type": "stream",
          "name": "stdout",
          "text": [
            "[[-1.3955235e-03]\n",
            " [-1.3470352e-03]\n",
            " [-1.2826324e-03]\n",
            " [-1.2468696e-03]\n",
            " [-1.3327897e-03]\n",
            " [-1.2807548e-03]\n",
            " [-1.2119710e-03]\n",
            " [-1.0821819e-03]\n",
            " [-9.0381503e-04]\n",
            " [-6.7850947e-04]\n",
            " [-4.2957067e-04]\n",
            " [ 1.4129281e-04]\n",
            " [-7.0843101e-04]\n",
            " [ 1.5711784e-04]\n",
            " [-7.4958801e-04]\n",
            " [ 7.2709918e-03]\n",
            " [ 2.7357399e-02]\n",
            " [ 5.6839705e-02]\n",
            " [ 1.7779317e-01]\n",
            " [ 2.6034158e-01]\n",
            " [ 2.6508909e-01]\n",
            " [ 2.5721014e-01]\n",
            " [ 5.1199400e-01]\n",
            " [ 7.5574458e-01]\n",
            " [ 1.0145780e+00]\n",
            " [ 1.1927943e+00]\n",
            " [ 1.1234090e+00]\n",
            " [ 9.8598659e-01]\n",
            " [ 7.4168491e-01]\n",
            " [ 6.5655994e-01]\n",
            " [ 5.2617085e-01]\n",
            " [ 3.1833109e-01]\n",
            " [ 2.6047999e-01]\n",
            " [ 1.4388609e-01]\n",
            " [ 4.1125029e-02]\n",
            " [-2.0914078e-03]\n",
            " [-1.0207504e-02]\n",
            " [-9.4198883e-03]\n",
            " [-8.5489154e-03]\n",
            " [-6.3061416e-03]\n",
            " [-5.5218339e-03]\n",
            " [-4.7421157e-03]\n",
            " [-4.2544901e-03]\n",
            " [-3.9084256e-03]\n",
            " [-3.6236942e-03]\n",
            " [-3.3647716e-03]\n",
            " [-3.1715930e-03]\n",
            " [-2.9893816e-03]]\n"
          ]
        }
      ]
    },
    {
      "cell_type": "markdown",
      "metadata": {
        "id": "eQJqF-ycdhjv"
      },
      "source": [
        "The values for prediction is 48 values from test data. The test data has 96 values in total, From that i have used first 96 values for predicting the next 48 sequence."
      ]
    },
    {
      "cell_type": "code",
      "metadata": {
        "colab": {
          "base_uri": "https://localhost:8080/",
          "height": 279
        },
        "id": "1E-P38ZSj-Wb",
        "outputId": "b744b8df-a0d7-4fdb-cc8e-d4a125b8b016"
      },
      "source": [
        "plt.plot(data_test,color='red',label='test data')\n",
        "plt.plot(predict_values,color='blue',label='predicted data')\n",
        "plt.legend()\n",
        "plt.xlabel(\"Time (hours)\")\n",
        "plt.ylabel(\"Solar Power (Watts)\")\n",
        "plt.show()"
      ],
      "execution_count": null,
      "outputs": [
        {
          "output_type": "display_data",
          "data": {
            "image/png": "[encoded data removed]",
            "text/plain": [
              "<Figure size 432x288 with 1 Axes>"
            ]
          },
          "metadata": {
            "needs_background": "light"
          }
        }
      ]
    },
    {
      "cell_type": "code",
      "metadata": {
        "colab": {
          "base_uri": "https://localhost:8080/",
          "height": 86
        },
        "id": "ahyhYqol33x7",
        "outputId": "0745270d-d258-4ad5-c47d-fe2acc4a6676"
      },
      "source": [
        "x=np.array(predict_values*1000)\n",
        "print(x.shape)\n",
        "#print(\"Predicted solar power in mW for next 30 minutes\",x)\n",
        "time_val=[]\n",
        "limit_val=[]\n",
        "battery_voltage=3.7\n",
        "battery_current=0.050\n",
        "Energy=battery_voltage*battery_current*1000\n",
        "print(\"Energy from battery in mWH\",Energy)\n",
        "power_req_1=50\n",
        "power_req_2=25\n",
        "power_req_3=10\n",
        "print(\"Max Power required in mW\",power_req_1)\n",
        "battery_time_1=Energy/power_req_1*60\n",
        "battery_time_2=Energy/power_req_2*60\n",
        "battery_time_3=Energy/power_req_3*60\n",
        "print(\"Battery life time in minutes\",battery_time_1)\n"
      ],
      "execution_count": null,
      "outputs": [
        {
          "output_type": "stream",
          "text": [
            "(48, 1)\n",
            "Energy from battery in mWH 185.00000000000003\n",
            "Max Power required in mW 50\n",
            "Battery life time in minutes 222.00000000000003\n"
          ],
          "name": "stdout"
        }
      ]
    },
    {
      "cell_type": "code",
      "metadata": {
        "colab": {
          "base_uri": "https://localhost:8080/",
          "height": 522
        },
        "id": "qoQ1_VGxc_eX",
        "outputId": "38a454a0-00d6-4bab-edf2-888340a3653f"
      },
      "source": [
        "limit_val=[]\n",
        "time_val=[]\n",
        "limit_val_2=[]\n",
        "time_val_2=[]\n",
        "Energy=185\n",
        "Energy1=185\n",
        "dec=0.83\n",
        "for i in range(1,222):\n",
        "  time_val_2.append(i)\n",
        "  Energy1=Energy1-0.83\n",
        "  limit_val_2.append(Energy1)\n",
        "plt.plot(time_val_2[1:48],limit_val_2[1:48])\n",
        "##########################\n",
        "for i in range(0,47):\n",
        "  print(i)\n",
        "  time_val.append(i)\n",
        "  if(i==0):\n",
        "    limit_val= 185-0.83\n",
        "  else:\n",
        "    limit_val[i]= limit_val[i-1]-dec\n",
        "'''\n",
        "  limit_val[i]+=x[i]\n",
        "  if limit_val[i]>185:\n",
        "    limit_val[i].append(185.0)\n",
        "  else:\n",
        "    limit_val[i].append(limit_val[i])\n",
        "'''\n",
        "   #print(limit_val[i])\n",
        "plt.plot(time_val,limit_val)\n",
        "plt.show()"
      ],
      "execution_count": null,
      "outputs": [
        {
          "output_type": "stream",
          "text": [
            "0\n",
            "1\n"
          ],
          "name": "stdout"
        },
        {
          "output_type": "error",
          "ename": "TypeError",
          "evalue": "ignored",
          "traceback": [
            "\u001b[0;31m---------------------------------------------------------------------------\u001b[0m",
            "\u001b[0;31mTypeError\u001b[0m                                 Traceback (most recent call last)",
            "\u001b[0;32m<ipython-input-14-3b70b008e3de>\u001b[0m in \u001b[0;36m<module>\u001b[0;34m()\u001b[0m\n\u001b[1;32m     18\u001b[0m     \u001b[0mlimit_val\u001b[0m\u001b[0;34m=\u001b[0m \u001b[0;36m185\u001b[0m\u001b[0;34m-\u001b[0m\u001b[0;36m0.83\u001b[0m\u001b[0;34m\u001b[0m\u001b[0;34m\u001b[0m\u001b[0m\n\u001b[1;32m     19\u001b[0m   \u001b[0;32melse\u001b[0m\u001b[0;34m:\u001b[0m\u001b[0;34m\u001b[0m\u001b[0;34m\u001b[0m\u001b[0m\n\u001b[0;32m---> 20\u001b[0;31m     \u001b[0mlimit_val\u001b[0m\u001b[0;34m[\u001b[0m\u001b[0mi\u001b[0m\u001b[0;34m]\u001b[0m\u001b[0;34m=\u001b[0m \u001b[0mlimit_val\u001b[0m\u001b[0;34m[\u001b[0m\u001b[0mi\u001b[0m\u001b[0;34m-\u001b[0m\u001b[0;36m1\u001b[0m\u001b[0;34m]\u001b[0m\u001b[0;34m-\u001b[0m\u001b[0mdec\u001b[0m\u001b[0;34m\u001b[0m\u001b[0;34m\u001b[0m\u001b[0m\n\u001b[0m\u001b[1;32m     21\u001b[0m '''\n\u001b[1;32m     22\u001b[0m   \u001b[0mlimit_val\u001b[0m\u001b[0;34m[\u001b[0m\u001b[0mi\u001b[0m\u001b[0;34m]\u001b[0m\u001b[0;34m+=\u001b[0m\u001b[0mx\u001b[0m\u001b[0;34m[\u001b[0m\u001b[0mi\u001b[0m\u001b[0;34m]\u001b[0m\u001b[0;34m\u001b[0m\u001b[0;34m\u001b[0m\u001b[0m\n",
            "\u001b[0;31mTypeError\u001b[0m: 'float' object is not subscriptable"
          ]
        },
        {
          "output_type": "display_data",
          "data": {
            "image/png": "[encoded data removed]",
            "text/plain": [
              "<Figure size 432x288 with 1 Axes>"
            ]
          },
          "metadata": {
            "tags": []
          }
        }
      ]
    },
    {
      "cell_type": "code",
      "metadata": {
        "colab": {
          "base_uri": "https://localhost:8080/",
          "height": 439
        },
        "id": "fgCaruLodTw_",
        "outputId": "c980cf7f-8c05-4651-a8ca-dd4d4e87cfe9"
      },
      "source": [
        "#battery time in 30 minutes range \n",
        "print(x.shape)\n",
        "print('solar_val',x[16:23])\n",
        "limit_val_1=[]\n",
        "time_val_1=[]\n",
        "Energy=185\n",
        "for i in range(1,8):\n",
        "  time_val_1.append(i)\n",
        "  Energy=Energy-25\n",
        "  limit_val_1.append(Energy)\n",
        "print(limit_val_1)\n",
        "plt.plot(time_val_1,limit_val_1)\n",
        "for i in range(1,7):\n",
        "  if x[i+16]>185 and limit_val_1[i]<185:\n",
        "    limit_val_1[i]+=25*i\n",
        "    if limit_val_1[i]>185:\n",
        "      limit_val_1[i]=185.0\n",
        "print(limit_val_1[6])\n",
        "plt.plot(time_val_1,limit_val_1)     \n",
        "plt.show() \n"
      ],
      "execution_count": null,
      "outputs": [
        {
          "output_type": "stream",
          "text": [
            "(48, 1)\n",
            "solar_val [[  5.476594]\n",
            " [106.784584]\n",
            " [184.95525 ]\n",
            " [272.0708  ]\n",
            " [297.67822 ]\n",
            " [297.05722 ]\n",
            " [474.33115 ]]\n",
            "[160, 135, 110, 85, 60, 35, 10]\n",
            "160\n"
          ],
          "name": "stdout"
        },
        {
          "output_type": "display_data",
          "data": {
            "image/png": "[encoded data removed]",
            "text/plain": [
              "<Figure size 432x288 with 1 Axes>"
            ]
          },
          "metadata": {
            "tags": []
          }
        }
      ]
    },
    {
      "cell_type": "markdown",
      "metadata": {
        "id": "iQrZERCId3Qh"
      },
      "source": [
        "I used battery energy = 185mwh and consumption value as 50mw. \n",
        "Formula used = E/P = 185/50= 3.7 (222.0 minutes).\n",
        "So the battery can withstand for 222 minutes to provide 50mw.\n",
        "for every minute the energy loss would be 0.83w using 185/222 value.\n",
        "Graph-1: shows energy drop vs time.\n",
        "Graph-2: energy recharge w r to solar power vs time"
      ]
    }
  ]
}